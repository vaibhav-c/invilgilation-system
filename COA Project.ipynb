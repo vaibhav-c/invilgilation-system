{
 "cells": [
  {
   "cell_type": "markdown",
   "id": "918e3b71",
   "metadata": {},
   "source": [
    "## Importing the Libraries"
   ]
  },
  {
   "cell_type": "code",
   "execution_count": 5,
   "id": "ebdf0297",
   "metadata": {},
   "outputs": [],
   "source": [
    "import cv2\n",
    "import numpy as np\n",
    "import matplotlib.pyplot as plt\n",
    "from PIL import Image, ImageOps\n",
    "from tensorflow.keras.models import load_model, model_from_json"
   ]
  },
  {
   "cell_type": "markdown",
   "id": "d4d877c8",
   "metadata": {},
   "source": [
    "## Loading Required Files"
   ]
  },
  {
   "cell_type": "code",
   "execution_count": 6,
   "id": "d217f04c",
   "metadata": {},
   "outputs": [
    {
     "name": "stdout",
     "output_type": "stream",
     "text": [
      "WARNING:tensorflow:No training configuration found in the save file, so the model was *not* compiled. Compile it manually.\n"
     ]
    }
   ],
   "source": [
    "face_cascade = cv2.CascadeClassifier('haarcascade_frontalface_default.xml')\n",
    "eye_cascade = cv2.CascadeClassifier('haarcascade_eye.xml')\n",
    "headphones = cv2.imread('./person.jpg', 0)\n",
    "image = cv2.imread('human.jpg')\n",
    "model = load_model('phone_model.h5')\n",
    "json_file = open('model.json', 'r')\n",
    "loaded_model_json = json_file.read()\n",
    "json_file.close()\n",
    "model1 = model_from_json(loaded_model_json)\n",
    "model1.load_weights(\"model.h5\")"
   ]
  },
  {
   "cell_type": "markdown",
   "id": "b1740767",
   "metadata": {},
   "source": [
    "## Function to detect the face"
   ]
  },
  {
   "cell_type": "code",
   "execution_count": 7,
   "id": "718e3e46",
   "metadata": {},
   "outputs": [],
   "source": [
    "def face(frame, prevX, prevY, prevW, prevH, frame_no, dont):\n",
    "    photo = 0 \n",
    "    face_rects = face_cascade.detectMultiScale(frame, minNeighbors = 20)\n",
    "    for (x,y,w,h) in face_rects:\n",
    "        cv2.rectangle(frame, (x,y), (x+w,y+h), (255,255,255), 10)\n",
    "        if abs(prevX - x) <= 2 and abs(prevY - y) <= 2 and abs(prevW - w) <= 2 and abs(prevH - h) <= 2:\n",
    "            frame = cv2.putText(frame, 'Photo', (x, y), cv2.FONT_HERSHEY_SIMPLEX, 1, (255, 0, 0), 2, cv2.LINE_AA)\n",
    "            photo += 4\n",
    "            prevX = x\n",
    "            prevY = y\n",
    "            prevW = w\n",
    "            prevH = h\n",
    "        if frame_no == 1:\n",
    "            prevX = x\n",
    "            prevY = y\n",
    "            prevW = w\n",
    "            prevH = h\n",
    "    if np.size(face_rects) > photo + 4 and not dont:\n",
    "        frame = cv2.putText(frame, 'More than one face visible', (200, 200), cv2.FONT_HERSHEY_SIMPLEX, 1, (255, 0, 0), 2, cv2.LINE_AA)\n",
    "        dont = True\n",
    "    elif np.size(face_rects) <= photo and not dont:\n",
    "        frame = cv2.putText(frame, 'Face not Visible properly', (200, 200), cv2.FONT_HERSHEY_SIMPLEX, 1, (255, 0, 0), 2, cv2.LINE_AA)\n",
    "        dont = True\n",
    "    return frame, prevX, prevY, prevW, prevH, dont"
   ]
  },
  {
   "cell_type": "markdown",
   "id": "f47e0807",
   "metadata": {},
   "source": [
    "## Main function"
   ]
  },
  {
   "cell_type": "code",
   "execution_count": 8,
   "id": "10f99981",
   "metadata": {},
   "outputs": [],
   "source": [
    "prevX = 0\n",
    "prevY = 0\n",
    "prevW = 0\n",
    "prevH = 0\n",
    "frame_no = 0\n",
    "cap = cv2.VideoCapture(0)\n",
    "while(cap.isOpened()):\n",
    "    dont = False\n",
    "    ret, frame = cap.read()\n",
    "    data = np.ndarray(shape=(1, 224, 224, 3), dtype=np.float32)\n",
    "    img = Image.fromarray(frame)\n",
    "    size = (224, 224)\n",
    "    img = ImageOps.fit(img, size, Image.ANTIALIAS)\n",
    "    image_array = np.asarray(img)\n",
    "    normalized_image_array = (image_array.astype(np.float32) / 127.0) - 1\n",
    "    data[0] = normalized_image_array\n",
    "    prediction = model.predict(data)\n",
    "    #print(prediction[0][0])\n",
    "    if prediction[0][0] > 0.4:\n",
    "        frame = cv2.putText(frame, 'Phone visible', (200, 400), cv2.FONT_HERSHEY_SIMPLEX, 1, (255, 0, 0), 2, cv2.LINE_AA)\n",
    "        dont = True\n",
    "    try:\n",
    "        frame1 = cv2.GaussianBlur(frame,(15,15),10)\n",
    "        orb = cv2.ORB_create()\n",
    "        kp1, des1 = orb.detectAndCompute(headphones,None)\n",
    "        kp2, des2 = orb.detectAndCompute(frame1,None)\n",
    "        bf = cv2.BFMatcher(cv2.NORM_HAMMING, crossCheck=True)\n",
    "        matches = bf.match(des1,des2)\n",
    "        matches = sorted(matches, key = lambda x:x.distance)\n",
    "        if np.shape(matches)[0] > 50 and not dont:\n",
    "            frame = cv2.putText(frame, 'Headphones visible', (200, 300), cv2.FONT_HERSHEY_SIMPLEX, 1, (255, 0, 0), 2, cv2.LINE_AA)\n",
    "            dont = True\n",
    "    except:\n",
    "        break\n",
    "    frame_no += 1\n",
    "    photo = 0\n",
    "    frame[20:170, 20:120, :] = image\n",
    "    frame, prevX, prevY, prevW, prevH, dont = face(frame, prevX, prevY, prevW, prevH, frame_no, dont)\n",
    "    cv2.imshow('frame', frame)\n",
    "    if cv2.waitKey(1) & 0xFF == ord('q'):\n",
    "        break\n",
    "cap.release()\n",
    "cv2.destroyAllWindows()"
   ]
  }
 ],
 "metadata": {
  "kernelspec": {
   "display_name": "Python 3 (ipykernel)",
   "language": "python",
   "name": "python3"
  },
  "language_info": {
   "codemirror_mode": {
    "name": "ipython",
    "version": 3
   },
   "file_extension": ".py",
   "mimetype": "text/x-python",
   "name": "python",
   "nbconvert_exporter": "python",
   "pygments_lexer": "ipython3",
   "version": "3.8.10"
  }
 },
 "nbformat": 4,
 "nbformat_minor": 5
}
